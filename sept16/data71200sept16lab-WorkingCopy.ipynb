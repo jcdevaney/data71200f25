{
  "cells": [
    {
      "cell_type": "markdown",
      "metadata": {
        "id": "view-in-github",
        "colab_type": "text"
      },
      "source": [
        "<a href=\"https://colab.research.google.com/github/jcdevaney/data71200f25/blob/main/sept16/data71200sept16lab-WorkingCopy.ipynb\" target=\"_parent\"><img src=\"https://colab.research.google.com/assets/colab-badge.svg\" alt=\"Open In Colab\"/></a>"
      ]
    },
    {
      "cell_type": "code",
      "execution_count": 1,
      "id": "f0464131",
      "metadata": {
        "id": "f0464131"
      },
      "outputs": [],
      "source": [
        "import os\n",
        "import numpy as np\n",
        "import pandas as pd\n",
        "from pandas.plotting import scatter_matrix\n",
        "import matplotlib.pyplot as plt"
      ]
    },
    {
      "cell_type": "markdown",
      "id": "6a0df9f7",
      "metadata": {
        "id": "6a0df9f7"
      },
      "source": [
        "# In-Class Activity 1"
      ]
    },
    {
      "cell_type": "code",
      "execution_count": 2,
      "id": "b6a5716a",
      "metadata": {
        "id": "b6a5716a"
      },
      "outputs": [],
      "source": [
        "# Import the California Housing Data from used in the HOML book, Chapter 2\n",
        "# Apply one-hot encoding to the ocean_proximity value\n",
        "\n",
        "import os\n",
        "import tarfile\n",
        "from six.moves import urllib\n",
        "\n",
        "DOWNLOAD_ROOT = \"https://raw.githubusercontent.com/ageron/handson-ml/master/\"\n",
        "HOUSING_PATH = os.path.join(\"datasets\", \"housing\")\n",
        "HOUSING_URL = DOWNLOAD_ROOT + \"datasets/housing/housing.tgz\"\n",
        "\n",
        "def fetch_housing_data(housing_url=HOUSING_URL, housing_path=HOUSING_PATH):\n",
        "    os.makedirs(housing_path, exist_ok=True)\n",
        "    tgz_path = os.path.join(housing_path, \"housing.tgz\")\n",
        "    urllib.request.urlretrieve(housing_url, tgz_path)\n",
        "    housing_tgz = tarfile.open(tgz_path)\n",
        "    housing_tgz.extractall(path=housing_path)\n",
        "    housing_tgz.close()"
      ]
    },
    {
      "cell_type": "code",
      "execution_count": 3,
      "id": "89d5af6f",
      "metadata": {
        "id": "89d5af6f",
        "outputId": "7296f8a3-4bd2-4399-dd6f-8c62719cd073",
        "colab": {
          "base_uri": "https://localhost:8080/"
        }
      },
      "outputs": [
        {
          "output_type": "stream",
          "name": "stderr",
          "text": [
            "/tmp/ipython-input-3857531761.py:17: DeprecationWarning: Python 3.14 will, by default, filter extracted tar archives and reject files or modify their metadata. Use the filter argument to control this behavior.\n",
            "  housing_tgz.extractall(path=housing_path)\n"
          ]
        }
      ],
      "source": [
        "fetch_housing_data()\n",
        "\n",
        "def load_housing_data(housing_path=HOUSING_PATH):\n",
        "    csv_path = os.path.join(housing_path, \"housing.csv\")\n",
        "    return pd.read_csv(csv_path)"
      ]
    },
    {
      "cell_type": "code",
      "execution_count": 4,
      "id": "64b2c72b",
      "metadata": {
        "id": "64b2c72b"
      },
      "outputs": [],
      "source": [
        "housing = load_housing_data()"
      ]
    },
    {
      "cell_type": "code",
      "execution_count": 5,
      "id": "277d5b32",
      "metadata": {
        "id": "277d5b32"
      },
      "outputs": [],
      "source": [
        "from sklearn.preprocessing import OrdinalEncoder # just to raise an ImportError if Scikit-Learn < 0.20\n",
        "from sklearn.preprocessing import OneHotEncoder\n",
        "\n",
        "housing_cat = housing['ocean_proximity'].values.reshape(-1,1)\n",
        "# apply OneHotEncoder to housing_cat\n"
      ]
    },
    {
      "cell_type": "code",
      "execution_count": 5,
      "id": "0fd2d1a0",
      "metadata": {
        "id": "0fd2d1a0"
      },
      "outputs": [],
      "source": [
        "# print the one hot-encoded values with .toarray()\n"
      ]
    },
    {
      "cell_type": "markdown",
      "id": "03e57732",
      "metadata": {
        "id": "03e57732"
      },
      "source": [
        "# In-Class Activity 2"
      ]
    },
    {
      "cell_type": "code",
      "execution_count": 6,
      "id": "789d6a39",
      "metadata": {
        "id": "789d6a39"
      },
      "outputs": [],
      "source": [
        "# Apply binning to the housing_median_age value in the California Housing dataset that we looked at last class\n",
        "# Plot both the original data and the binned data using matplotlib\n",
        "\n",
        "from sklearn.preprocessing import KBinsDiscretizer\n",
        "\n",
        "# use KBinsDiscretizer on 'housing_median_age' and print the bin edges"
      ]
    },
    {
      "cell_type": "code",
      "execution_count": 6,
      "id": "8b658584",
      "metadata": {
        "id": "8b658584"
      },
      "outputs": [],
      "source": [
        "# transform the 'housing_median_age' with KBinsDiscretizer and print the output\n"
      ]
    },
    {
      "cell_type": "code",
      "execution_count": 6,
      "id": "7a74b2a2",
      "metadata": {
        "id": "7a74b2a2"
      },
      "outputs": [],
      "source": [
        "# plot the original 'housing_median_age' values\n"
      ]
    },
    {
      "cell_type": "code",
      "execution_count": 6,
      "id": "a1b04681",
      "metadata": {
        "id": "a1b04681"
      },
      "outputs": [],
      "source": [
        "# plot the binned 'housing_median_age' values\n"
      ]
    },
    {
      "cell_type": "code",
      "execution_count": 6,
      "id": "418b988c",
      "metadata": {
        "id": "418b988c"
      },
      "outputs": [],
      "source": [
        "# plot the histogram of the 'housing_median_age' with 10 bins\n"
      ]
    },
    {
      "cell_type": "code",
      "execution_count": 6,
      "id": "458eff69",
      "metadata": {
        "id": "458eff69"
      },
      "outputs": [],
      "source": [
        "# plot the histogram of binned\n"
      ]
    },
    {
      "cell_type": "markdown",
      "id": "9c1e2d22",
      "metadata": {
        "id": "9c1e2d22"
      },
      "source": [
        "# In-Class Activity 3"
      ]
    },
    {
      "cell_type": "code",
      "execution_count": 7,
      "id": "974c03c3",
      "metadata": {
        "id": "974c03c3"
      },
      "outputs": [],
      "source": [
        "#Apply the following transformations to housing_median_age and median_income in the California Housing dataset\n",
        "# Squaring (**2)\n",
        "# Cubing (**3)\n",
        "# np.log\n",
        "# np.exp\n",
        "# Plot histograms and scatter matrices to explore the resultant data\n",
        "\n",
        "# plot the histogram of the housing_median_age values\n"
      ]
    },
    {
      "cell_type": "code",
      "execution_count": 7,
      "id": "2ddc83f3",
      "metadata": {
        "id": "2ddc83f3"
      },
      "outputs": [],
      "source": [
        "# plot the histogram of the housing_median_age values squared\n"
      ]
    },
    {
      "cell_type": "code",
      "execution_count": 7,
      "id": "a2992c78",
      "metadata": {
        "id": "a2992c78"
      },
      "outputs": [],
      "source": [
        "# plot the histogram of the housing_median_age values cubed\n"
      ]
    },
    {
      "cell_type": "code",
      "execution_count": 7,
      "id": "1c2c3efb",
      "metadata": {
        "id": "1c2c3efb"
      },
      "outputs": [],
      "source": [
        "# plot the histogram of the housing_median_age log values\n"
      ]
    },
    {
      "cell_type": "code",
      "execution_count": 7,
      "id": "d7f03d03",
      "metadata": {
        "id": "d7f03d03"
      },
      "outputs": [],
      "source": [
        "# plot the histogram of the housing_median_age exponential values\n"
      ]
    },
    {
      "cell_type": "code",
      "execution_count": 8,
      "id": "e63a4c5a",
      "metadata": {
        "id": "e63a4c5a"
      },
      "outputs": [],
      "source": [
        "# plot the histogram of the median_income values\n"
      ]
    },
    {
      "cell_type": "code",
      "execution_count": 8,
      "id": "792b69e7",
      "metadata": {
        "id": "792b69e7"
      },
      "outputs": [],
      "source": [
        "# plot the histogram of the median_income values squared"
      ]
    },
    {
      "cell_type": "code",
      "execution_count": 8,
      "id": "96ea45c1",
      "metadata": {
        "id": "96ea45c1"
      },
      "outputs": [],
      "source": [
        "# plot the histogram of the median_income values cubed"
      ]
    },
    {
      "cell_type": "code",
      "execution_count": 8,
      "id": "ac913435",
      "metadata": {
        "id": "ac913435"
      },
      "outputs": [],
      "source": [
        "# plot the histogram of the median_income log values"
      ]
    },
    {
      "cell_type": "code",
      "execution_count": 8,
      "id": "dde885a0",
      "metadata": {
        "id": "dde885a0"
      },
      "outputs": [],
      "source": [
        "# plot the histogram of the median_income exponential values"
      ]
    },
    {
      "cell_type": "code",
      "execution_count": 9,
      "id": "c28c71f2",
      "metadata": {
        "id": "c28c71f2"
      },
      "outputs": [],
      "source": [
        "#scatter matrix for the original data for house_median_age and median_income\n",
        "\n"
      ]
    },
    {
      "cell_type": "code",
      "execution_count": 10,
      "id": "8e061944",
      "metadata": {
        "id": "8e061944"
      },
      "outputs": [],
      "source": [
        "#scatter matrix for the squared data for house_median_age and median_income\n"
      ]
    },
    {
      "cell_type": "code",
      "execution_count": 11,
      "id": "dc18a8f1",
      "metadata": {
        "id": "dc18a8f1"
      },
      "outputs": [],
      "source": [
        "#scatter matrix for the cubed data for house_median_age and median_income\n"
      ]
    }
  ],
  "metadata": {
    "kernelspec": {
      "display_name": "Python 3",
      "language": "python",
      "name": "python3"
    },
    "language_info": {
      "codemirror_mode": {
        "name": "ipython",
        "version": 3
      },
      "file_extension": ".py",
      "mimetype": "text/x-python",
      "name": "python",
      "nbconvert_exporter": "python",
      "pygments_lexer": "ipython3",
      "version": "3.6.13"
    },
    "colab": {
      "provenance": [],
      "include_colab_link": true
    }
  },
  "nbformat": 4,
  "nbformat_minor": 5
}