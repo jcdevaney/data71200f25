{
  "nbformat": 4,
  "nbformat_minor": 0,
  "metadata": {
    "colab": {
      "provenance": [],
      "authorship_tag": "ABX9TyOCMFqM4skEd0xanj6NBFqT",
      "include_colab_link": true
    },
    "kernelspec": {
      "name": "python3",
      "display_name": "Python 3"
    },
    "language_info": {
      "name": "python"
    }
  },
  "cells": [
    {
      "cell_type": "markdown",
      "metadata": {
        "id": "view-in-github",
        "colab_type": "text"
      },
      "source": [
        "<a href=\"https://colab.research.google.com/github/jcdevaney/data71200f25/blob/main/oct21/data71200oct21lab.ipynb\" target=\"_parent\"><img src=\"https://colab.research.google.com/assets/colab-badge.svg\" alt=\"Open In Colab\"/></a>"
      ]
    },
    {
      "cell_type": "markdown",
      "source": [
        "# Import Libraries"
      ],
      "metadata": {
        "id": "m6BcKm2cz1O3"
      }
    },
    {
      "cell_type": "code",
      "execution_count": null,
      "metadata": {
        "id": "S8CCh3Vj5BjW"
      },
      "outputs": [],
      "source": []
    },
    {
      "cell_type": "markdown",
      "source": [
        "# Import Wine Dataset"
      ],
      "metadata": {
        "id": "sVikFUZZz6zM"
      }
    },
    {
      "cell_type": "code",
      "source": [],
      "metadata": {
        "id": "c8RB_u8X5ERs"
      },
      "execution_count": null,
      "outputs": []
    },
    {
      "cell_type": "markdown",
      "source": [
        "# Testing/Training Split"
      ],
      "metadata": {
        "id": "Lsa1vGsIz86h"
      }
    },
    {
      "cell_type": "code",
      "source": [],
      "metadata": {
        "id": "I99bBrL-5HVs"
      },
      "execution_count": null,
      "outputs": []
    },
    {
      "cell_type": "markdown",
      "source": [
        "# Import KNN Classifier"
      ],
      "metadata": {
        "id": "1BwMiPOo0AlR"
      }
    },
    {
      "cell_type": "code",
      "source": [],
      "metadata": {
        "id": "JRuP52Rq5RXf"
      },
      "execution_count": null,
      "outputs": []
    },
    {
      "cell_type": "markdown",
      "source": [
        "# Perform Grid Search"
      ],
      "metadata": {
        "id": "0ye96G2c0F1R"
      }
    },
    {
      "cell_type": "code",
      "source": [
        "\n",
        "#dictionary of all values of k\n",
        "\n",
        "#grid search on all values of k in dictionary\n"
      ],
      "metadata": {
        "id": "GfGoZgNI0Dkk"
      },
      "execution_count": null,
      "outputs": []
    },
    {
      "cell_type": "code",
      "source": [
        "#best performing k (on training set)\n"
      ],
      "metadata": {
        "id": "o5OFsRH35lKA"
      },
      "execution_count": null,
      "outputs": []
    },
    {
      "cell_type": "code",
      "source": [
        "#accuracy of best performing k\n"
      ],
      "metadata": {
        "id": "vjeUWrTg5mXG"
      },
      "execution_count": null,
      "outputs": []
    },
    {
      "cell_type": "code",
      "source": [
        "#cross validation results\n"
      ],
      "metadata": {
        "id": "llfgP5Iq6JLf"
      },
      "execution_count": null,
      "outputs": []
    },
    {
      "cell_type": "markdown",
      "source": [
        "# Best Performing"
      ],
      "metadata": {
        "id": "d4uKhO0x0ah-"
      }
    },
    {
      "cell_type": "code",
      "source": [
        "# accuracy of k = ? on testing data\n"
      ],
      "metadata": {
        "id": "ALIWYPqe5pUv"
      },
      "execution_count": null,
      "outputs": []
    },
    {
      "cell_type": "markdown",
      "source": [
        "# Worst Performing"
      ],
      "metadata": {
        "id": "oy-K8VDf0k5H"
      }
    },
    {
      "cell_type": "code",
      "source": [
        "# accuracy of k = ? on testing data\n"
      ],
      "metadata": {
        "id": "FkbCgOob0gor"
      },
      "execution_count": null,
      "outputs": []
    }
  ]
}