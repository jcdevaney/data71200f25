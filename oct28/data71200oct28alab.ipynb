{
  "nbformat": 4,
  "nbformat_minor": 0,
  "metadata": {
    "colab": {
      "provenance": [],
      "authorship_tag": "ABX9TyMP95XowPNhgqhqRPhQgHAJ",
      "include_colab_link": true
    },
    "kernelspec": {
      "name": "python3",
      "display_name": "Python 3"
    },
    "language_info": {
      "name": "python"
    }
  },
  "cells": [
    {
      "cell_type": "markdown",
      "metadata": {
        "id": "view-in-github",
        "colab_type": "text"
      },
      "source": [
        "<a href=\"https://colab.research.google.com/github/jcdevaney/data71200f25/blob/main/oct28/data71200oct28alab.ipynb\" target=\"_parent\"><img src=\"https://colab.research.google.com/assets/colab-badge.svg\" alt=\"Open In Colab\"/></a>"
      ]
    },
    {
      "cell_type": "markdown",
      "source": [
        "# Import Libraries"
      ],
      "metadata": {
        "id": "m6BcKm2cz1O3"
      }
    },
    {
      "cell_type": "code",
      "execution_count": null,
      "metadata": {
        "id": "S8CCh3Vj5BjW"
      },
      "outputs": [],
      "source": []
    },
    {
      "cell_type": "markdown",
      "source": [
        "# Import Wine Dataset"
      ],
      "metadata": {
        "id": "sVikFUZZz6zM"
      }
    },
    {
      "cell_type": "code",
      "source": [],
      "metadata": {
        "id": "c8RB_u8X5ERs"
      },
      "execution_count": null,
      "outputs": []
    },
    {
      "cell_type": "markdown",
      "source": [
        "# Testing/Training Split"
      ],
      "metadata": {
        "id": "Lsa1vGsIz86h"
      }
    },
    {
      "cell_type": "code",
      "source": [],
      "metadata": {
        "id": "I99bBrL-5HVs"
      },
      "execution_count": null,
      "outputs": []
    },
    {
      "cell_type": "markdown",
      "source": [
        "# Import Logistic Regression and Perform Grid Search"
      ],
      "metadata": {
        "id": "6ij4yoFf0x2z"
      }
    },
    {
      "cell_type": "code",
      "source": [],
      "metadata": {
        "id": "1VgOu-tEp9db"
      },
      "execution_count": null,
      "outputs": []
    },
    {
      "cell_type": "code",
      "source": [
        "#try increasing max_iter\n"
      ],
      "metadata": {
        "id": "_1aYZgAR149z"
      },
      "execution_count": null,
      "outputs": []
    },
    {
      "cell_type": "code",
      "source": [
        "#dictionary of all values of c\n",
        "\n",
        "#grid search on all values of k in dictionary for logist regression\n"
      ],
      "metadata": {
        "id": "gcYp6Vzy0-c2"
      },
      "execution_count": null,
      "outputs": []
    },
    {
      "cell_type": "code",
      "source": [
        "#best performing c (on training set)\n"
      ],
      "metadata": {
        "id": "FYBP8g-J2U9Z"
      },
      "execution_count": null,
      "outputs": []
    },
    {
      "cell_type": "code",
      "source": [
        "#accuracy of best performing c\n"
      ],
      "metadata": {
        "id": "xAdtEYGC2a00"
      },
      "execution_count": null,
      "outputs": []
    },
    {
      "cell_type": "code",
      "source": [
        "#cross validation results\n"
      ],
      "metadata": {
        "id": "H94e81u62ev3"
      },
      "execution_count": null,
      "outputs": []
    },
    {
      "cell_type": "markdown",
      "source": [
        "# Import Linear SVC and Perform Grid Search"
      ],
      "metadata": {
        "id": "x8SQLdAG57ry"
      }
    },
    {
      "cell_type": "code",
      "source": [],
      "metadata": {
        "id": "SV4fAOwr6FjI"
      },
      "execution_count": null,
      "outputs": []
    },
    {
      "cell_type": "code",
      "source": [
        "#dictionary of all values of c\n",
        "\n",
        "#grid search on all values of c in dictionary for linear svc\n"
      ],
      "metadata": {
        "id": "zS5c9Fxo2lV4"
      },
      "execution_count": null,
      "outputs": []
    },
    {
      "cell_type": "code",
      "source": [
        "#try increasing max_iter for linear svc and rerun grid search\n"
      ],
      "metadata": {
        "id": "VH0EBh7l3eNM"
      },
      "execution_count": null,
      "outputs": []
    },
    {
      "cell_type": "code",
      "source": [
        "#best performing c (on training set)\n"
      ],
      "metadata": {
        "id": "3srg9PZ134Pk"
      },
      "execution_count": null,
      "outputs": []
    },
    {
      "cell_type": "code",
      "source": [
        "#accuracy of best performing c\n"
      ],
      "metadata": {
        "id": "oyicYqzL37BH"
      },
      "execution_count": null,
      "outputs": []
    },
    {
      "cell_type": "code",
      "source": [
        "#cross validation results\n"
      ],
      "metadata": {
        "id": "4oi7nqTO38yq"
      },
      "execution_count": null,
      "outputs": []
    },
    {
      "cell_type": "markdown",
      "source": [
        "# Best Performing"
      ],
      "metadata": {
        "id": "4f-Eynw_2ox5"
      }
    },
    {
      "cell_type": "code",
      "source": [
        "# accuracy of C = ? on testing data\n"
      ],
      "metadata": {
        "id": "79sh62-42pTZ"
      },
      "execution_count": null,
      "outputs": []
    },
    {
      "cell_type": "code",
      "source": [
        "# accuracy of C = ? on testing data\n"
      ],
      "metadata": {
        "id": "N6Cjaypo4OCP"
      },
      "execution_count": null,
      "outputs": []
    },
    {
      "cell_type": "code",
      "source": [
        "# accuracy of C = ? on testing data with increased max_iter\n"
      ],
      "metadata": {
        "id": "6zsqIEWx32AQ"
      },
      "execution_count": null,
      "outputs": []
    },
    {
      "cell_type": "markdown",
      "source": [
        "# Worst Performing"
      ],
      "metadata": {
        "id": "-82ryD_i2px3"
      }
    },
    {
      "cell_type": "code",
      "source": [
        "# accuracy of C = ? on testing data\n"
      ],
      "metadata": {
        "id": "Ix99uGAo2r55"
      },
      "execution_count": null,
      "outputs": []
    },
    {
      "cell_type": "code",
      "source": [
        "# accuracy of C = ? on testing data\n"
      ],
      "metadata": {
        "id": "Gk7Eii7G4Rry"
      },
      "execution_count": null,
      "outputs": []
    }
  ]
}